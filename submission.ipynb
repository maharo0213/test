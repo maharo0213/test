{
 "cells": [
  {
   "cell_type": "code",
   "execution_count": 1,
   "metadata": {
    "colab": {
     "base_uri": "https://localhost:8080/",
     "height": 144
    },
    "colab_type": "code",
    "executionInfo": {
     "elapsed": 30512,
     "status": "ok",
     "timestamp": 1586077404143,
     "user": {
      "displayName": "kouhei yoshizumi",
      "photoUrl": "",
      "userId": "08893900752209747449"
     },
     "user_tz": -540
    },
    "id": "RkCq8SCe5pY5",
    "outputId": "ac3a6e37-16cc-424a-c822-dfd1bf785714"
   },
   "outputs": [
    {
     "name": "stdout",
     "output_type": "stream",
     "text": [
      "Go to this URL in a browser: https://accounts.google.com/o/oauth2/auth?client_id=947318989803-6bn6qk8qdgf4n4g3pfee6491hc0brc4i.apps.googleusercontent.com&redirect_uri=urn%3aietf%3awg%3aoauth%3a2.0%3aoob&response_type=code&scope=email%20https%3a%2f%2fwww.googleapis.com%2fauth%2fdocs.test%20https%3a%2f%2fwww.googleapis.com%2fauth%2fdrive%20https%3a%2f%2fwww.googleapis.com%2fauth%2fdrive.photos.readonly%20https%3a%2f%2fwww.googleapis.com%2fauth%2fpeopleapi.readonly\n",
      "\n",
      "Enter your authorization code:\n",
      "··········\n",
      "Mounted at /content/drive\n",
      "/content/drive/My Drive/Colab Notebooks\n"
     ]
    }
   ],
   "source": [
    "from google.colab import drive\n",
    "drive.mount('/content/drive')\n",
    "%cd /content/drive/'My Drive'/'Colab Notebooks'/\n",
    "#sssssssssssssssssssssssssssssssssssssssssssssssssssss"
   ]
  },
  {
   "cell_type": "code",
   "execution_count": 0,
   "metadata": {
    "colab": {},
    "colab_type": "code",
    "id": "yIKnVOWt51DE"
   },
   "outputs": [],
   "source": [
    "import warnings\n",
    "warnings.filterwarnings('ignore')\n",
    "import pandas as pd\n",
    "import numpy as np\n",
    "import dask.dataframe as dd\n",
    "pd.set_option('display.max_columns', 500)\n",
    "pd.set_option('display.max_rows', 500)\n",
    "import matplotlib.pyplot as plt\n",
    "import seaborn as sns; sns.set()\n",
    "import lightgbm as lgb\n",
    "#import dask_xgboost as xgb\n",
    "#import dask.dataframe as dd\n",
    "from sklearn import preprocessing, metrics\n",
    "from sklearn.preprocessing import LabelEncoder\n",
    "import gc\n",
    "import os\n",
    "from tqdm import tqdm, tqdm_notebook\n",
    "from scipy.sparse import csr_matrix\n"
   ]
  },
  {
   "cell_type": "code",
   "execution_count": 0,
   "metadata": {
    "colab": {},
    "colab_type": "code",
    "id": "UpDhfCnq6BDz"
   },
   "outputs": [],
   "source": [
    "def reduce_mem_usage(df, verbose=True):\n",
    "    numerics = ['int16', 'int32', 'int64', 'float16', 'float32', 'float64']\n",
    "    start_mem = df.memory_usage().sum() / 1024**2    \n",
    "    for col in df.columns:\n",
    "        col_type = df[col].dtypes\n",
    "        if col_type in numerics:\n",
    "            c_min = df[col].min()\n",
    "            c_max = df[col].max()\n",
    "            if str(col_type)[:3] == 'int':\n",
    "                if c_min > np.iinfo(np.int8).min and c_max < np.iinfo(np.int8).max:\n",
    "                    df[col] = df[col].astype(np.int8)\n",
    "                elif c_min > np.iinfo(np.int16).min and c_max < np.iinfo(np.int16).max:\n",
    "                    df[col] = df[col].astype(np.int16)\n",
    "                elif c_min > np.iinfo(np.int32).min and c_max < np.iinfo(np.int32).max:\n",
    "                    df[col] = df[col].astype(np.int32)\n",
    "                elif c_min > np.iinfo(np.int64).min and c_max < np.iinfo(np.int64).max:\n",
    "                    df[col] = df[col].astype(np.int64)  \n",
    "            else:\n",
    "                if c_min > np.finfo(np.float16).min and c_max < np.finfo(np.float16).max:\n",
    "                    df[col] = df[col].astype(np.float16)\n",
    "                elif c_min > np.finfo(np.float32).min and c_max < np.finfo(np.float32).max:\n",
    "                    df[col] = df[col].astype(np.float32)\n",
    "                else:\n",
    "                    df[col] = df[col].astype(np.float64)    \n",
    "    end_mem = df.memory_usage().sum() / 1024**2\n",
    "    if verbose: print('Mem. usage decreased to {:5.2f} Mb ({:.1f}% reduction)'.format(end_mem, 100 * (start_mem - end_mem) / start_mem))\n",
    "    return df"
   ]
  },
  {
   "cell_type": "code",
   "execution_count": 0,
   "metadata": {
    "colab": {},
    "colab_type": "code",
    "id": "1pOxeGeC6BHt"
   },
   "outputs": [],
   "source": [
    "def read_data():\n",
    "    print('Reading files...')\n",
    "    calendar = pd.read_csv('calendar.csv')\n",
    "    calendar_df = reduce_mem_usage(calendar)\n",
    "    print('Calendar has {} rows and {} columns'.format(calendar.shape[0], calendar.shape[1]))\n",
    "    sell_prices = pd.read_csv('sell_prices.csv')\n",
    "    sell_prices_df = reduce_mem_usage(sell_prices)\n",
    "    print('Sell prices has {} rows and {} columns'.format(sell_prices.shape[0], sell_prices.shape[1]))\n",
    "    sales_train_validation_df = pd.read_csv('sales_train_validation.csv')\n",
    "    print('Sales train validation has {} rows and {} columns'.format(sales_train_validation_df.shape[0], sales_train_validation_df.shape[1]))\n",
    "    submission = pd.read_csv('sample_submission.csv')\n",
    "    return calendar, sell_prices, sales_train_validation_df, submission"
   ]
  },
  {
   "cell_type": "code",
   "execution_count": 0,
   "metadata": {
    "colab": {},
    "colab_type": "code",
    "id": "lzrtmEFw6BL-"
   },
   "outputs": [],
   "source": [
    "import IPython\n",
    "\n",
    "def display(*dfs, head=True):\n",
    "    for df in dfs:\n",
    "        IPython.display.display(df.head() if head else df)"
   ]
  },
  {
   "cell_type": "code",
   "execution_count": 6,
   "metadata": {
    "colab": {
     "base_uri": "https://localhost:8080/",
     "height": 124
    },
    "colab_type": "code",
    "executionInfo": {
     "elapsed": 42191,
     "status": "ok",
     "timestamp": 1586077415918,
     "user": {
      "displayName": "kouhei yoshizumi",
      "photoUrl": "",
      "userId": "08893900752209747449"
     },
     "user_tz": -540
    },
    "id": "Y1TBlYEz6BRO",
    "outputId": "e3095417-4826-4f1c-dc68-824b34dd2072"
   },
   "outputs": [
    {
     "name": "stdout",
     "output_type": "stream",
     "text": [
      "Reading files...\n",
      "Mem. usage decreased to  0.12 Mb (41.9% reduction)\n",
      "Calendar has 1969 rows and 14 columns\n",
      "Mem. usage decreased to 130.48 Mb (37.5% reduction)\n",
      "Sell prices has 6841121 rows and 4 columns\n",
      "Sales train validation has 30490 rows and 1919 columns\n"
     ]
    }
   ],
   "source": [
    "calendar_df, sell_prices_df, sales_train_validation_df, submission = read_data()"
   ]
  },
  {
   "cell_type": "code",
   "execution_count": 0,
   "metadata": {
    "colab": {},
    "colab_type": "code",
    "id": "GbDTvGiQ6BeS"
   },
   "outputs": [],
   "source": [
    "NUM_ITEMS = sales_train_validation_df.shape[0]  # 30490\n",
    "DAYS_PRED = 28\n",
    "nrows = 365 * 2 * NUM_ITEMS"
   ]
  },
  {
   "cell_type": "code",
   "execution_count": 8,
   "metadata": {
    "colab": {
     "base_uri": "https://localhost:8080/",
     "height": 70
    },
    "colab_type": "code",
    "executionInfo": {
     "elapsed": 121004,
     "status": "ok",
     "timestamp": 1586077530840,
     "user": {
      "displayName": "kouhei yoshizumi",
      "photoUrl": "",
      "userId": "08893900752209747449"
     },
     "user_tz": -540
    },
    "id": "RAfHrhmx6Bj3",
    "outputId": "7f8c0f15-e345-49cf-d7ff-adc666d48cbf"
   },
   "outputs": [
    {
     "name": "stdout",
     "output_type": "stream",
     "text": [
      "Mem. usage decreased to  0.08 Mb (36.9% reduction)\n",
      "Mem. usage decreased to 94.01 Mb (78.9% reduction)\n",
      "Mem. usage decreased to 45.67 Mb (65.0% reduction)\n"
     ]
    }
   ],
   "source": [
    "def encode_categorical(df, cols):\n",
    "    for col in cols:\n",
    "        # Leave NaN as it is.\n",
    "        le = preprocessing.LabelEncoder()\n",
    "        not_null = df[col][df[col].notnull()]\n",
    "        df[col] = pd.Series(le.fit_transform(not_null), index=not_null.index)\n",
    "\n",
    "    return df\n",
    "\n",
    "\n",
    "calendar_df = encode_categorical(calendar_df, [\"event_name_1\", \"event_type_1\", \"event_name_2\", \"event_type_2\"]).pipe(reduce_mem_usage)\n",
    "sales_train_validation_df = encode_categorical(sales_train_validation_df, [\"item_id\", \"dept_id\", \"cat_id\", \"store_id\", \"state_id\"]).pipe(reduce_mem_usage)\n",
    "sell_prices_df = encode_categorical(sell_prices_df, [\"item_id\", \"store_id\"]).pipe(reduce_mem_usage)"
   ]
  },
  {
   "cell_type": "code",
   "execution_count": 0,
   "metadata": {
    "colab": {},
    "colab_type": "code",
    "id": "2W3QzgM8lkc9"
   },
   "outputs": [],
   "source": [
    "def zapsmall(z, tol=1e-6):\n",
    "    z[abs(z) < tol] = 0\n",
    "    return z\n",
    "    \n",
    "def prep_selling_prices(df):\n",
    "    gr = df.groupby([\"store_id\", \"item_id\"])[\"sell_price\"]\n",
    "    df[\"sell_price_rel_diff\"] = gr.pct_change()\n",
    "    df[\"sell_price_cumrel\"] = (gr.shift(0) - gr.cummin()) / (1 + gr.cummax() - gr.cummin())\n",
    "    df[\"sell_price_roll_sd7\"] = zapsmall(gr.transform(lambda x: x.rolling(7).std()))\n",
    "    to_float32 = [\"sell_price\", \"sell_price_rel_diff\", \"sell_price_cumrel\", \"sell_price_roll_sd7\"]\n",
    "    df[to_float32] = df[to_float32].astype(\"float32\")\n",
    "         \n",
    "    return df\n",
    "\n",
    "sell_prices_df = prep_selling_prices(sell_prices_df)"
   ]
  },
  {
   "cell_type": "code",
   "execution_count": 0,
   "metadata": {
    "colab": {},
    "colab_type": "code",
    "id": "q8WaMP2B6Bhn"
   },
   "outputs": [],
   "source": [
    "def melt_and_merge(calendar, sell_prices, sales_train_validation, submission, nrows = 55000000, merge = False):\n",
    "    \n",
    "    # melt sales data, get it ready for training\n",
    "    sales_train_validation = pd.melt(sales_train_validation, id_vars = ['id', 'item_id', 'dept_id', 'cat_id', 'store_id', 'state_id'], var_name = 'day', value_name = 'demand')\n",
    "    print('Melted sales train validation has {} rows and {} columns'.format(sales_train_validation.shape[0], sales_train_validation.shape[1]))\n",
    "    sales_train_validation = reduce_mem_usage(sales_train_validation)\n",
    "    \n",
    "    sales_train_validation = sales_train_validation.iloc[-nrows:,:]\n",
    "    \n",
    "    \n",
    "    # seperate test dataframes\n",
    "    test1_rows = [row for row in submission['id'] if 'validation' in row]\n",
    "    test2_rows = [row for row in submission['id'] if 'evaluation' in row]\n",
    "    test1 = submission[submission['id'].isin(test1_rows)]\n",
    "    test2 = submission[submission['id'].isin(test2_rows)]\n",
    "    \n",
    "    # change column names\n",
    "    test1.columns = ['id', 'd_1914', 'd_1915', 'd_1916', 'd_1917', 'd_1918', 'd_1919', 'd_1920', 'd_1921', 'd_1922', 'd_1923', 'd_1924', 'd_1925', 'd_1926', 'd_1927', 'd_1928', 'd_1929', 'd_1930', 'd_1931', \n",
    "                      'd_1932', 'd_1933', 'd_1934', 'd_1935', 'd_1936', 'd_1937', 'd_1938', 'd_1939', 'd_1940', 'd_1941']\n",
    "    test2.columns = ['id', 'd_1942', 'd_1943', 'd_1944', 'd_1945', 'd_1946', 'd_1947', 'd_1948', 'd_1949', 'd_1950', 'd_1951', 'd_1952', 'd_1953', 'd_1954', 'd_1955', 'd_1956', 'd_1957', 'd_1958', 'd_1959', \n",
    "                      'd_1960', 'd_1961', 'd_1962', 'd_1963', 'd_1964', 'd_1965', 'd_1966', 'd_1967', 'd_1968', 'd_1969']\n",
    "    \n",
    "    # get product table\n",
    "    product = sales_train_validation[['id', 'item_id', 'dept_id', 'cat_id', 'store_id', 'state_id']].drop_duplicates()\n",
    "    \n",
    "    # merge with product table\n",
    "    test2['id'] = test2['id'].str.replace('_evaluation','_validation')\n",
    "    test1 = test1.merge(product, how = 'left', on = 'id')\n",
    "    test2 = test2.merge(product, how = 'left', on = 'id')\n",
    "    test2['id'] = test2['id'].str.replace('_validation','_evaluation')\n",
    "    \n",
    "    # \n",
    "    test1 = pd.melt(test1, id_vars = ['id', 'item_id', 'dept_id', 'cat_id', 'store_id', 'state_id'], var_name = 'day', value_name = 'demand')\n",
    "    test2 = pd.melt(test2, id_vars = ['id', 'item_id', 'dept_id', 'cat_id', 'store_id', 'state_id'], var_name = 'day', value_name = 'demand')\n",
    "    \n",
    "    sales_train_validation['part'] = 'train'\n",
    "    test1['part'] = 'test1'\n",
    "    test2['part'] = 'test2'\n",
    "    \n",
    "    data = pd.concat([sales_train_validation, test1, test2], axis = 0)\n",
    "    \n",
    "    del sales_train_validation, test1, test2\n",
    "    \n",
    "    print(data.shape)\n",
    "    \n",
    "    # get only a sample for fst training\n",
    "#     data = data.loc[nrows:]\n",
    "    \n",
    "    # drop some calendar features\n",
    "    calendar.drop(['weekday', 'wday', 'month', 'year'], inplace = True, axis = 1)\n",
    "    \n",
    "    # delete test2 for now\n",
    "    data = data[data['part'] != 'test2']\n",
    "    \n",
    "    if merge:\n",
    "        # notebook crash with the entire dataset (maybee use tensorflow, dask, pyspark xD)\n",
    "        data = pd.merge(data, calendar, how = 'left', left_on = ['day'], right_on = ['d'])\n",
    "        data.drop(['d', 'day'], inplace = True, axis = 1)\n",
    "        # get the sell price data (this feature should be very important)\n",
    "        data = data.merge(sell_prices, on = ['store_id', 'item_id', 'wm_yr_wk'], how = 'left')\n",
    "        print('Our final dataset to train has {} rows and {} columns'.format(data.shape[0], data.shape[1]))\n",
    "    else: \n",
    "        pass\n",
    "    \n",
    "    gc.collect()\n",
    "    \n",
    "    return data\n"
   ]
  },
  {
   "cell_type": "code",
   "execution_count": 11,
   "metadata": {
    "colab": {
     "base_uri": "https://localhost:8080/",
     "height": 35
    },
    "colab_type": "code",
    "executionInfo": {
     "elapsed": 143825,
     "status": "ok",
     "timestamp": 1586077556071,
     "user": {
      "displayName": "kouhei yoshizumi",
      "photoUrl": "",
      "userId": "08893900752209747449"
     },
     "user_tz": -540
    },
    "id": "2I0SmU5aaNpj",
    "outputId": "5202df69-b075-4d42-eece-34581871fb6f"
   },
   "outputs": [
    {
     "data": {
      "text/plain": [
       "22257700"
      ]
     },
     "execution_count": 11,
     "metadata": {
      "tags": []
     },
     "output_type": "execute_result"
    }
   ],
   "source": [
    "nrows"
   ]
  },
  {
   "cell_type": "code",
   "execution_count": 12,
   "metadata": {
    "colab": {
     "base_uri": "https://localhost:8080/",
     "height": 88
    },
    "colab_type": "code",
    "executionInfo": {
     "elapsed": 183247,
     "status": "ok",
     "timestamp": 1586077596071,
     "user": {
      "displayName": "kouhei yoshizumi",
      "photoUrl": "",
      "userId": "08893900752209747449"
     },
     "user_tz": -540
    },
    "id": "1OrRmGhu6Bcr",
    "outputId": "2917b949-0de9-4457-bd3c-c6d47bcc35b9"
   },
   "outputs": [
    {
     "name": "stdout",
     "output_type": "stream",
     "text": [
      "Melted sales train validation has 58327370 rows and 8 columns\n",
      "Mem. usage decreased to 1335.01 Mb (0.0% reduction)\n",
      "(23965140, 9)\n",
      "Our final dataset to train has 23111420 rows and 21 columns\n"
     ]
    }
   ],
   "source": [
    "# nrows = 365 * 2 * NUM_ITEMS\n",
    "\n",
    "#nrows = 27500000\n",
    "data = melt_and_merge(calendar_df, sell_prices_df, sales_train_validation_df, submission, nrows = nrows, merge = True)\n",
    "# nrows = 27500000"
   ]
  },
  {
   "cell_type": "code",
   "execution_count": 13,
   "metadata": {
    "colab": {
     "base_uri": "https://localhost:8080/",
     "height": 298
    },
    "colab_type": "code",
    "executionInfo": {
     "elapsed": 182529,
     "status": "ok",
     "timestamp": 1586077596072,
     "user": {
      "displayName": "kouhei yoshizumi",
      "photoUrl": "",
      "userId": "08893900752209747449"
     },
     "user_tz": -540
    },
    "id": "ucZNuh88IQ2K",
    "outputId": "733af56e-f749-461f-c0c4-4be78437a7af"
   },
   "outputs": [
    {
     "data": {
      "text/html": [
       "<div>\n",
       "<style scoped>\n",
       "    .dataframe tbody tr th:only-of-type {\n",
       "        vertical-align: middle;\n",
       "    }\n",
       "\n",
       "    .dataframe tbody tr th {\n",
       "        vertical-align: top;\n",
       "    }\n",
       "\n",
       "    .dataframe thead th {\n",
       "        text-align: right;\n",
       "    }\n",
       "</style>\n",
       "<table border=\"1\" class=\"dataframe\">\n",
       "  <thead>\n",
       "    <tr style=\"text-align: right;\">\n",
       "      <th></th>\n",
       "      <th>id</th>\n",
       "      <th>item_id</th>\n",
       "      <th>dept_id</th>\n",
       "      <th>cat_id</th>\n",
       "      <th>store_id</th>\n",
       "      <th>state_id</th>\n",
       "      <th>demand</th>\n",
       "      <th>part</th>\n",
       "      <th>date</th>\n",
       "      <th>wm_yr_wk</th>\n",
       "      <th>event_name_1</th>\n",
       "      <th>event_type_1</th>\n",
       "      <th>event_name_2</th>\n",
       "      <th>event_type_2</th>\n",
       "      <th>snap_CA</th>\n",
       "      <th>snap_TX</th>\n",
       "      <th>snap_WI</th>\n",
       "      <th>sell_price</th>\n",
       "      <th>sell_price_rel_diff</th>\n",
       "      <th>sell_price_cumrel</th>\n",
       "      <th>sell_price_roll_sd7</th>\n",
       "    </tr>\n",
       "  </thead>\n",
       "  <tbody>\n",
       "    <tr>\n",
       "      <th>0</th>\n",
       "      <td>HOBBIES_1_001_CA_1_validation</td>\n",
       "      <td>1437</td>\n",
       "      <td>3</td>\n",
       "      <td>1</td>\n",
       "      <td>0</td>\n",
       "      <td>0</td>\n",
       "      <td>0</td>\n",
       "      <td>train</td>\n",
       "      <td>2014-04-26</td>\n",
       "      <td>11413</td>\n",
       "      <td>NaN</td>\n",
       "      <td>NaN</td>\n",
       "      <td>NaN</td>\n",
       "      <td>NaN</td>\n",
       "      <td>0</td>\n",
       "      <td>0</td>\n",
       "      <td>0</td>\n",
       "      <td>8.257812</td>\n",
       "      <td>0.0</td>\n",
       "      <td>0.000000</td>\n",
       "      <td>0.0</td>\n",
       "    </tr>\n",
       "    <tr>\n",
       "      <th>1</th>\n",
       "      <td>HOBBIES_1_002_CA_1_validation</td>\n",
       "      <td>1438</td>\n",
       "      <td>3</td>\n",
       "      <td>1</td>\n",
       "      <td>0</td>\n",
       "      <td>0</td>\n",
       "      <td>0</td>\n",
       "      <td>train</td>\n",
       "      <td>2014-04-26</td>\n",
       "      <td>11413</td>\n",
       "      <td>NaN</td>\n",
       "      <td>NaN</td>\n",
       "      <td>NaN</td>\n",
       "      <td>NaN</td>\n",
       "      <td>0</td>\n",
       "      <td>0</td>\n",
       "      <td>0</td>\n",
       "      <td>3.970703</td>\n",
       "      <td>0.0</td>\n",
       "      <td>0.000000</td>\n",
       "      <td>0.0</td>\n",
       "    </tr>\n",
       "    <tr>\n",
       "      <th>2</th>\n",
       "      <td>HOBBIES_1_003_CA_1_validation</td>\n",
       "      <td>1439</td>\n",
       "      <td>3</td>\n",
       "      <td>1</td>\n",
       "      <td>0</td>\n",
       "      <td>0</td>\n",
       "      <td>0</td>\n",
       "      <td>train</td>\n",
       "      <td>2014-04-26</td>\n",
       "      <td>11413</td>\n",
       "      <td>NaN</td>\n",
       "      <td>NaN</td>\n",
       "      <td>NaN</td>\n",
       "      <td>NaN</td>\n",
       "      <td>0</td>\n",
       "      <td>0</td>\n",
       "      <td>0</td>\n",
       "      <td>2.970703</td>\n",
       "      <td>0.0</td>\n",
       "      <td>0.000000</td>\n",
       "      <td>0.0</td>\n",
       "    </tr>\n",
       "    <tr>\n",
       "      <th>3</th>\n",
       "      <td>HOBBIES_1_004_CA_1_validation</td>\n",
       "      <td>1440</td>\n",
       "      <td>3</td>\n",
       "      <td>1</td>\n",
       "      <td>0</td>\n",
       "      <td>0</td>\n",
       "      <td>1</td>\n",
       "      <td>train</td>\n",
       "      <td>2014-04-26</td>\n",
       "      <td>11413</td>\n",
       "      <td>NaN</td>\n",
       "      <td>NaN</td>\n",
       "      <td>NaN</td>\n",
       "      <td>NaN</td>\n",
       "      <td>0</td>\n",
       "      <td>0</td>\n",
       "      <td>0</td>\n",
       "      <td>4.640625</td>\n",
       "      <td>0.0</td>\n",
       "      <td>0.231201</td>\n",
       "      <td>0.0</td>\n",
       "    </tr>\n",
       "    <tr>\n",
       "      <th>4</th>\n",
       "      <td>HOBBIES_1_005_CA_1_validation</td>\n",
       "      <td>1441</td>\n",
       "      <td>3</td>\n",
       "      <td>1</td>\n",
       "      <td>0</td>\n",
       "      <td>0</td>\n",
       "      <td>0</td>\n",
       "      <td>train</td>\n",
       "      <td>2014-04-26</td>\n",
       "      <td>11413</td>\n",
       "      <td>NaN</td>\n",
       "      <td>NaN</td>\n",
       "      <td>NaN</td>\n",
       "      <td>NaN</td>\n",
       "      <td>0</td>\n",
       "      <td>0</td>\n",
       "      <td>0</td>\n",
       "      <td>3.080078</td>\n",
       "      <td>0.0</td>\n",
       "      <td>0.375244</td>\n",
       "      <td>0.0</td>\n",
       "    </tr>\n",
       "  </tbody>\n",
       "</table>\n",
       "</div>"
      ],
      "text/plain": [
       "                              id  item_id  dept_id  cat_id  store_id  \\\n",
       "0  HOBBIES_1_001_CA_1_validation     1437        3       1         0   \n",
       "1  HOBBIES_1_002_CA_1_validation     1438        3       1         0   \n",
       "2  HOBBIES_1_003_CA_1_validation     1439        3       1         0   \n",
       "3  HOBBIES_1_004_CA_1_validation     1440        3       1         0   \n",
       "4  HOBBIES_1_005_CA_1_validation     1441        3       1         0   \n",
       "\n",
       "   state_id  demand   part        date  wm_yr_wk  event_name_1  event_type_1  \\\n",
       "0         0       0  train  2014-04-26     11413           NaN           NaN   \n",
       "1         0       0  train  2014-04-26     11413           NaN           NaN   \n",
       "2         0       0  train  2014-04-26     11413           NaN           NaN   \n",
       "3         0       1  train  2014-04-26     11413           NaN           NaN   \n",
       "4         0       0  train  2014-04-26     11413           NaN           NaN   \n",
       "\n",
       "   event_name_2  event_type_2  snap_CA  snap_TX  snap_WI  sell_price  \\\n",
       "0           NaN           NaN        0        0        0    8.257812   \n",
       "1           NaN           NaN        0        0        0    3.970703   \n",
       "2           NaN           NaN        0        0        0    2.970703   \n",
       "3           NaN           NaN        0        0        0    4.640625   \n",
       "4           NaN           NaN        0        0        0    3.080078   \n",
       "\n",
       "   sell_price_rel_diff  sell_price_cumrel  sell_price_roll_sd7  \n",
       "0                  0.0           0.000000                  0.0  \n",
       "1                  0.0           0.000000                  0.0  \n",
       "2                  0.0           0.000000                  0.0  \n",
       "3                  0.0           0.231201                  0.0  \n",
       "4                  0.0           0.375244                  0.0  "
      ]
     },
     "execution_count": 13,
     "metadata": {
      "tags": []
     },
     "output_type": "execute_result"
    }
   ],
   "source": [
    "data.head()"
   ]
  },
  {
   "cell_type": "code",
   "execution_count": 0,
   "metadata": {
    "colab": {},
    "colab_type": "code",
    "id": "S9Kymlp-PRsT"
   },
   "outputs": [],
   "source": [
    "data['demand_total'] = data.groupby('id')['demand'].cumsum()\n",
    "data = data[~((data['demand_total']==0)&(data['part']=='train'))]"
   ]
  },
  {
   "cell_type": "code",
   "execution_count": 15,
   "metadata": {
    "colab": {
     "base_uri": "https://localhost:8080/",
     "height": 35
    },
    "colab_type": "code",
    "executionInfo": {
     "elapsed": 758542,
     "status": "ok",
     "timestamp": 1586078173851,
     "user": {
      "displayName": "kouhei yoshizumi",
      "photoUrl": "",
      "userId": "08893900752209747449"
     },
     "user_tz": -540
    },
    "id": "5LWA7XTz7Ed6",
    "outputId": "dff42a57-e77a-42e2-a49c-debfb2af2797"
   },
   "outputs": [
    {
     "name": "stdout",
     "output_type": "stream",
     "text": [
      "Mem. usage decreased to 2239.11 Mb (48.8% reduction)\n"
     ]
    }
   ],
   "source": [
    "def simple_fe(data):\n",
    "\n",
    "    data['lag_t28'] = data.groupby(['id'])['demand'].transform(lambda x: x.shift(28))\n",
    "    data['rolling_mean_t7'] = data.groupby(['id'])['demand'].transform(lambda x: x.shift(28).rolling(7).mean())\n",
    "    data['rolling_mean_t15'] = data.groupby(['id'])['demand'].transform(lambda x: x.shift(28).rolling(15).mean())\n",
    "    data['rolling_mean_t30'] = data.groupby(['id'])['demand'].transform(lambda x: x.shift(28).rolling(30).mean())\n",
    "    data['rolling_mean_t50'] = data.groupby(['id'])['demand'].transform(lambda x: x.shift(28).rolling(50).mean())\n",
    "    data['rolling_mean_t70'] = data.groupby(['id'])['demand'].transform(lambda x: x.shift(28).rolling(70).mean())\n",
    "    data['rolling_mean_t90'] = data.groupby(['id'])['demand'].transform(lambda x: x.shift(28).rolling(90).mean())\n",
    "    data['rolling_mean_t120'] = data.groupby(['id'])['demand'].transform(lambda x: x.shift(28).rolling(120).mean())\n",
    "    data['rolling_mean_t150'] = data.groupby(['id'])['demand'].transform(lambda x: x.shift(28).rolling(150).mean())\n",
    "    data['rolling_mean_t180'] = data.groupby(['id'])['demand'].transform(lambda x: x.shift(28).rolling(180).mean())\n",
    "    data['rolling_std_t7'] = data.groupby(['id'])['demand'].transform(lambda x: x.shift(28).rolling(7).std())\n",
    "    data['rolling_std_t30'] = data.groupby(['id'])['demand'].transform(lambda x: x.shift(28).rolling(30).std())\n",
    "    data['rolling_skew_t30'] = data.groupby(['id'])['demand'].transform(lambda x: x.shift(28).rolling(30).skew())\n",
    "    data['rolling_kurt_t30'] = data.groupby(['id'])['demand'].transform(lambda x: x.shift(28).rolling(30).kurt())\n",
    "\n",
    "\n",
    "# time features\n",
    "    data['date'] = pd.to_datetime(data['date'])\n",
    "    attrs = [\"year\", \"quarter\", \"month\", \"week\", \"day\", \"dayofweek\", \"is_year_end\", \"is_year_start\", \"is_quarter_end\", \\\n",
    "        \"is_quarter_start\", \"is_month_end\",\"is_month_start\",\n",
    "    ]\n",
    "\n",
    "    for attr in attrs:\n",
    "        dtype = np.int16 if attr == \"year\" else np.int8\n",
    "        data[attr] = getattr(data['date'].dt, attr).astype(dtype)\n",
    "    data[\"is_weekend\"] = data[\"dayofweek\"].isin([5, 6]).astype(np.int8)\n",
    "    \n",
    "    return data\n",
    "\n",
    "data = simple_fe(data)\n",
    "data = reduce_mem_usage(data)"
   ]
  },
  {
   "cell_type": "code",
   "execution_count": 16,
   "metadata": {
    "colab": {
     "base_uri": "https://localhost:8080/",
     "height": 248
    },
    "colab_type": "code",
    "executionInfo": {
     "elapsed": 757697,
     "status": "ok",
     "timestamp": 1586078173852,
     "user": {
      "displayName": "kouhei yoshizumi",
      "photoUrl": "",
      "userId": "08893900752209747449"
     },
     "user_tz": -540
    },
    "id": "FEQpryNuc2Vg",
    "outputId": "12bd35f8-6679-420f-888b-1e1e43248297"
   },
   "outputs": [
    {
     "data": {
      "text/plain": [
       "Index(['id', 'item_id', 'dept_id', 'cat_id', 'store_id', 'state_id', 'demand',\n",
       "       'part', 'date', 'wm_yr_wk', 'event_name_1', 'event_type_1',\n",
       "       'event_name_2', 'event_type_2', 'snap_CA', 'snap_TX', 'snap_WI',\n",
       "       'sell_price', 'sell_price_rel_diff', 'sell_price_cumrel',\n",
       "       'sell_price_roll_sd7', 'demand_total', 'lag_t28', 'rolling_mean_t7',\n",
       "       'rolling_mean_t15', 'rolling_mean_t30', 'rolling_mean_t50',\n",
       "       'rolling_mean_t70', 'rolling_mean_t90', 'rolling_mean_t120',\n",
       "       'rolling_mean_t150', 'rolling_mean_t180', 'rolling_std_t7',\n",
       "       'rolling_std_t30', 'rolling_skew_t30', 'rolling_kurt_t30', 'year',\n",
       "       'quarter', 'month', 'week', 'day', 'dayofweek', 'is_year_end',\n",
       "       'is_year_start', 'is_quarter_end', 'is_quarter_start', 'is_month_end',\n",
       "       'is_month_start', 'is_weekend'],\n",
       "      dtype='object')"
      ]
     },
     "execution_count": 16,
     "metadata": {
      "tags": []
     },
     "output_type": "execute_result"
    }
   ],
   "source": [
    "data.columns"
   ]
  },
  {
   "cell_type": "code",
   "execution_count": 0,
   "metadata": {
    "colab": {},
    "colab_type": "code",
    "id": "WsTEcTGQ7EcC"
   },
   "outputs": [],
   "source": [
    "def run_lgb(data):\n",
    "    \n",
    "    # going to evaluate with the last 28 days\n",
    "    x_train = data[data['date'] <= '2016-03-27']\n",
    "    y_train = x_train['demand']\n",
    "    x_val = data[(data['date'] > '2016-03-27') & (data['date'] <= '2016-04-24')]\n",
    "    y_val = x_val['demand']\n",
    "    test = data[(data['date'] > '2016-04-24')]\n",
    "    del data\n",
    "    gc.collect()\n",
    "    \n",
    "    params = {\n",
    "    'metric': 'rmse',\n",
    "    'objective': 'poisson',\n",
    "    'seed': 20,\n",
    "    'learning_rate': 0.075,\n",
    "    'lambda': 0.1,\n",
    "    'num_leaves': 63,\n",
    "    'bagging_fraction': 0.66,\n",
    "    'bagging_freq': 1, \n",
    "    'colsample_bytree': 0.77\n",
    "    }\n",
    "    train_set = lgb.Dataset(x_train[features], y_train)\n",
    "    val_set = lgb.Dataset(x_val[features], y_val)\n",
    "    \n",
    "    del x_train, y_train\n",
    "    \n",
    "    \n",
    "    model = lgb.train(params, train_set, num_boost_round = 2000, early_stopping_rounds = 50, valid_sets = [train_set, val_set], verbose_eval = 30)\n",
    "    \n",
    "    val_pred = model.predict(x_val[features], num_iteration=model.best_iteration)\n",
    "    val_score = np.sqrt(metrics.mean_squared_error(val_pred, y_val))\n",
    "    importance = pd.DataFrame(model.feature_importance(), index=features, columns=['importance'])\n",
    "    print(f'Our val rmse score is {val_score}')\n",
    "    pred = model.predict(test[features], num_iteration=model.best_iteration)\n",
    "    test['demand'] = pred * 1.04\n",
    "    return test, importance\n",
    "\n",
    "\n",
    "def predict(test, submission):\n",
    "    predictions = test[['id', 'date', 'demand']]\n",
    "    #predictions['demand'] = predictions['demand'] * 1.08\n",
    "    predictions = pd.pivot(predictions, index = 'id', columns = 'date', values = 'demand').reset_index()\n",
    "    predictions.columns = ['id'] + ['F' + str(i + 1) for i in range(28)]\n",
    "\n",
    "    evaluation_rows = [row for row in submission['id'] if 'evaluation' in row] \n",
    "    evaluation = submission[submission['id'].isin(evaluation_rows)]\n",
    "\n",
    "    validation = submission[['id']].merge(predictions, on = 'id')\n",
    "    final = pd.concat([validation, evaluation])\n",
    "\n",
    "    final.to_csv('submission53.csv', index = False)\n",
    "    "
   ]
  },
  {
   "cell_type": "code",
   "execution_count": 18,
   "metadata": {
    "colab": {
     "base_uri": "https://localhost:8080/",
     "height": 298
    },
    "colab_type": "code",
    "executionInfo": {
     "elapsed": 756045,
     "status": "ok",
     "timestamp": 1586078173854,
     "user": {
      "displayName": "kouhei yoshizumi",
      "photoUrl": "",
      "userId": "08893900752209747449"
     },
     "user_tz": -540
    },
    "id": "x02uV6lDNPtt",
    "outputId": "baf410a2-dccb-4406-a36c-178e1ac4145c"
   },
   "outputs": [
    {
     "data": {
      "text/html": [
       "<div>\n",
       "<style scoped>\n",
       "    .dataframe tbody tr th:only-of-type {\n",
       "        vertical-align: middle;\n",
       "    }\n",
       "\n",
       "    .dataframe tbody tr th {\n",
       "        vertical-align: top;\n",
       "    }\n",
       "\n",
       "    .dataframe thead th {\n",
       "        text-align: right;\n",
       "    }\n",
       "</style>\n",
       "<table border=\"1\" class=\"dataframe\">\n",
       "  <thead>\n",
       "    <tr style=\"text-align: right;\">\n",
       "      <th></th>\n",
       "      <th>id</th>\n",
       "      <th>item_id</th>\n",
       "      <th>dept_id</th>\n",
       "      <th>cat_id</th>\n",
       "      <th>store_id</th>\n",
       "      <th>state_id</th>\n",
       "      <th>demand</th>\n",
       "      <th>part</th>\n",
       "      <th>date</th>\n",
       "      <th>wm_yr_wk</th>\n",
       "      <th>event_name_1</th>\n",
       "      <th>event_type_1</th>\n",
       "      <th>event_name_2</th>\n",
       "      <th>event_type_2</th>\n",
       "      <th>snap_CA</th>\n",
       "      <th>snap_TX</th>\n",
       "      <th>snap_WI</th>\n",
       "      <th>sell_price</th>\n",
       "      <th>sell_price_rel_diff</th>\n",
       "      <th>sell_price_cumrel</th>\n",
       "      <th>sell_price_roll_sd7</th>\n",
       "      <th>demand_total</th>\n",
       "      <th>lag_t28</th>\n",
       "      <th>rolling_mean_t7</th>\n",
       "      <th>rolling_mean_t15</th>\n",
       "      <th>rolling_mean_t30</th>\n",
       "      <th>rolling_mean_t50</th>\n",
       "      <th>rolling_mean_t70</th>\n",
       "      <th>rolling_mean_t90</th>\n",
       "      <th>rolling_mean_t120</th>\n",
       "      <th>rolling_mean_t150</th>\n",
       "      <th>rolling_mean_t180</th>\n",
       "      <th>rolling_std_t7</th>\n",
       "      <th>rolling_std_t30</th>\n",
       "      <th>rolling_skew_t30</th>\n",
       "      <th>rolling_kurt_t30</th>\n",
       "      <th>year</th>\n",
       "      <th>quarter</th>\n",
       "      <th>month</th>\n",
       "      <th>week</th>\n",
       "      <th>day</th>\n",
       "      <th>dayofweek</th>\n",
       "      <th>is_year_end</th>\n",
       "      <th>is_year_start</th>\n",
       "      <th>is_quarter_end</th>\n",
       "      <th>is_quarter_start</th>\n",
       "      <th>is_month_end</th>\n",
       "      <th>is_month_start</th>\n",
       "      <th>is_weekend</th>\n",
       "    </tr>\n",
       "  </thead>\n",
       "  <tbody>\n",
       "    <tr>\n",
       "      <th>3</th>\n",
       "      <td>HOBBIES_1_004_CA_1_validation</td>\n",
       "      <td>1440</td>\n",
       "      <td>3</td>\n",
       "      <td>1</td>\n",
       "      <td>0</td>\n",
       "      <td>0</td>\n",
       "      <td>1</td>\n",
       "      <td>train</td>\n",
       "      <td>2014-04-26</td>\n",
       "      <td>11413</td>\n",
       "      <td>NaN</td>\n",
       "      <td>NaN</td>\n",
       "      <td>NaN</td>\n",
       "      <td>NaN</td>\n",
       "      <td>0</td>\n",
       "      <td>0</td>\n",
       "      <td>0</td>\n",
       "      <td>4.640625</td>\n",
       "      <td>0.0</td>\n",
       "      <td>0.231201</td>\n",
       "      <td>0.0</td>\n",
       "      <td>1</td>\n",
       "      <td>NaN</td>\n",
       "      <td>NaN</td>\n",
       "      <td>NaN</td>\n",
       "      <td>NaN</td>\n",
       "      <td>NaN</td>\n",
       "      <td>NaN</td>\n",
       "      <td>NaN</td>\n",
       "      <td>NaN</td>\n",
       "      <td>NaN</td>\n",
       "      <td>NaN</td>\n",
       "      <td>NaN</td>\n",
       "      <td>NaN</td>\n",
       "      <td>NaN</td>\n",
       "      <td>NaN</td>\n",
       "      <td>2014</td>\n",
       "      <td>2</td>\n",
       "      <td>4</td>\n",
       "      <td>17</td>\n",
       "      <td>26</td>\n",
       "      <td>5</td>\n",
       "      <td>0</td>\n",
       "      <td>0</td>\n",
       "      <td>0</td>\n",
       "      <td>0</td>\n",
       "      <td>0</td>\n",
       "      <td>0</td>\n",
       "      <td>1</td>\n",
       "    </tr>\n",
       "    <tr>\n",
       "      <th>7</th>\n",
       "      <td>HOBBIES_1_008_CA_1_validation</td>\n",
       "      <td>1444</td>\n",
       "      <td>3</td>\n",
       "      <td>1</td>\n",
       "      <td>0</td>\n",
       "      <td>0</td>\n",
       "      <td>7</td>\n",
       "      <td>train</td>\n",
       "      <td>2014-04-26</td>\n",
       "      <td>11413</td>\n",
       "      <td>NaN</td>\n",
       "      <td>NaN</td>\n",
       "      <td>NaN</td>\n",
       "      <td>NaN</td>\n",
       "      <td>0</td>\n",
       "      <td>0</td>\n",
       "      <td>0</td>\n",
       "      <td>0.459961</td>\n",
       "      <td>0.0</td>\n",
       "      <td>0.037079</td>\n",
       "      <td>0.0</td>\n",
       "      <td>7</td>\n",
       "      <td>NaN</td>\n",
       "      <td>NaN</td>\n",
       "      <td>NaN</td>\n",
       "      <td>NaN</td>\n",
       "      <td>NaN</td>\n",
       "      <td>NaN</td>\n",
       "      <td>NaN</td>\n",
       "      <td>NaN</td>\n",
       "      <td>NaN</td>\n",
       "      <td>NaN</td>\n",
       "      <td>NaN</td>\n",
       "      <td>NaN</td>\n",
       "      <td>NaN</td>\n",
       "      <td>NaN</td>\n",
       "      <td>2014</td>\n",
       "      <td>2</td>\n",
       "      <td>4</td>\n",
       "      <td>17</td>\n",
       "      <td>26</td>\n",
       "      <td>5</td>\n",
       "      <td>0</td>\n",
       "      <td>0</td>\n",
       "      <td>0</td>\n",
       "      <td>0</td>\n",
       "      <td>0</td>\n",
       "      <td>0</td>\n",
       "      <td>1</td>\n",
       "    </tr>\n",
       "    <tr>\n",
       "      <th>9</th>\n",
       "      <td>HOBBIES_1_010_CA_1_validation</td>\n",
       "      <td>1446</td>\n",
       "      <td>3</td>\n",
       "      <td>1</td>\n",
       "      <td>0</td>\n",
       "      <td>0</td>\n",
       "      <td>2</td>\n",
       "      <td>train</td>\n",
       "      <td>2014-04-26</td>\n",
       "      <td>11413</td>\n",
       "      <td>NaN</td>\n",
       "      <td>NaN</td>\n",
       "      <td>NaN</td>\n",
       "      <td>NaN</td>\n",
       "      <td>0</td>\n",
       "      <td>0</td>\n",
       "      <td>0</td>\n",
       "      <td>2.970703</td>\n",
       "      <td>0.0</td>\n",
       "      <td>0.000000</td>\n",
       "      <td>0.0</td>\n",
       "      <td>2</td>\n",
       "      <td>NaN</td>\n",
       "      <td>NaN</td>\n",
       "      <td>NaN</td>\n",
       "      <td>NaN</td>\n",
       "      <td>NaN</td>\n",
       "      <td>NaN</td>\n",
       "      <td>NaN</td>\n",
       "      <td>NaN</td>\n",
       "      <td>NaN</td>\n",
       "      <td>NaN</td>\n",
       "      <td>NaN</td>\n",
       "      <td>NaN</td>\n",
       "      <td>NaN</td>\n",
       "      <td>NaN</td>\n",
       "      <td>2014</td>\n",
       "      <td>2</td>\n",
       "      <td>4</td>\n",
       "      <td>17</td>\n",
       "      <td>26</td>\n",
       "      <td>5</td>\n",
       "      <td>0</td>\n",
       "      <td>0</td>\n",
       "      <td>0</td>\n",
       "      <td>0</td>\n",
       "      <td>0</td>\n",
       "      <td>0</td>\n",
       "      <td>1</td>\n",
       "    </tr>\n",
       "    <tr>\n",
       "      <th>12</th>\n",
       "      <td>HOBBIES_1_013_CA_1_validation</td>\n",
       "      <td>1449</td>\n",
       "      <td>3</td>\n",
       "      <td>1</td>\n",
       "      <td>0</td>\n",
       "      <td>0</td>\n",
       "      <td>1</td>\n",
       "      <td>train</td>\n",
       "      <td>2014-04-26</td>\n",
       "      <td>11413</td>\n",
       "      <td>NaN</td>\n",
       "      <td>NaN</td>\n",
       "      <td>NaN</td>\n",
       "      <td>NaN</td>\n",
       "      <td>0</td>\n",
       "      <td>0</td>\n",
       "      <td>0</td>\n",
       "      <td>1.969727</td>\n",
       "      <td>0.0</td>\n",
       "      <td>0.000000</td>\n",
       "      <td>0.0</td>\n",
       "      <td>1</td>\n",
       "      <td>NaN</td>\n",
       "      <td>NaN</td>\n",
       "      <td>NaN</td>\n",
       "      <td>NaN</td>\n",
       "      <td>NaN</td>\n",
       "      <td>NaN</td>\n",
       "      <td>NaN</td>\n",
       "      <td>NaN</td>\n",
       "      <td>NaN</td>\n",
       "      <td>NaN</td>\n",
       "      <td>NaN</td>\n",
       "      <td>NaN</td>\n",
       "      <td>NaN</td>\n",
       "      <td>NaN</td>\n",
       "      <td>2014</td>\n",
       "      <td>2</td>\n",
       "      <td>4</td>\n",
       "      <td>17</td>\n",
       "      <td>26</td>\n",
       "      <td>5</td>\n",
       "      <td>0</td>\n",
       "      <td>0</td>\n",
       "      <td>0</td>\n",
       "      <td>0</td>\n",
       "      <td>0</td>\n",
       "      <td>0</td>\n",
       "      <td>1</td>\n",
       "    </tr>\n",
       "    <tr>\n",
       "      <th>14</th>\n",
       "      <td>HOBBIES_1_015_CA_1_validation</td>\n",
       "      <td>1451</td>\n",
       "      <td>3</td>\n",
       "      <td>1</td>\n",
       "      <td>0</td>\n",
       "      <td>0</td>\n",
       "      <td>11</td>\n",
       "      <td>train</td>\n",
       "      <td>2014-04-26</td>\n",
       "      <td>11413</td>\n",
       "      <td>NaN</td>\n",
       "      <td>NaN</td>\n",
       "      <td>NaN</td>\n",
       "      <td>NaN</td>\n",
       "      <td>0</td>\n",
       "      <td>0</td>\n",
       "      <td>0</td>\n",
       "      <td>0.700195</td>\n",
       "      <td>0.0</td>\n",
       "      <td>0.019226</td>\n",
       "      <td>0.0</td>\n",
       "      <td>11</td>\n",
       "      <td>NaN</td>\n",
       "      <td>NaN</td>\n",
       "      <td>NaN</td>\n",
       "      <td>NaN</td>\n",
       "      <td>NaN</td>\n",
       "      <td>NaN</td>\n",
       "      <td>NaN</td>\n",
       "      <td>NaN</td>\n",
       "      <td>NaN</td>\n",
       "      <td>NaN</td>\n",
       "      <td>NaN</td>\n",
       "      <td>NaN</td>\n",
       "      <td>NaN</td>\n",
       "      <td>NaN</td>\n",
       "      <td>2014</td>\n",
       "      <td>2</td>\n",
       "      <td>4</td>\n",
       "      <td>17</td>\n",
       "      <td>26</td>\n",
       "      <td>5</td>\n",
       "      <td>0</td>\n",
       "      <td>0</td>\n",
       "      <td>0</td>\n",
       "      <td>0</td>\n",
       "      <td>0</td>\n",
       "      <td>0</td>\n",
       "      <td>1</td>\n",
       "    </tr>\n",
       "  </tbody>\n",
       "</table>\n",
       "</div>"
      ],
      "text/plain": [
       "                               id  item_id  dept_id  cat_id  store_id  \\\n",
       "3   HOBBIES_1_004_CA_1_validation     1440        3       1         0   \n",
       "7   HOBBIES_1_008_CA_1_validation     1444        3       1         0   \n",
       "9   HOBBIES_1_010_CA_1_validation     1446        3       1         0   \n",
       "12  HOBBIES_1_013_CA_1_validation     1449        3       1         0   \n",
       "14  HOBBIES_1_015_CA_1_validation     1451        3       1         0   \n",
       "\n",
       "    state_id  demand   part       date  wm_yr_wk  event_name_1  event_type_1  \\\n",
       "3          0       1  train 2014-04-26     11413           NaN           NaN   \n",
       "7          0       7  train 2014-04-26     11413           NaN           NaN   \n",
       "9          0       2  train 2014-04-26     11413           NaN           NaN   \n",
       "12         0       1  train 2014-04-26     11413           NaN           NaN   \n",
       "14         0      11  train 2014-04-26     11413           NaN           NaN   \n",
       "\n",
       "    event_name_2  event_type_2  snap_CA  snap_TX  snap_WI  sell_price  \\\n",
       "3            NaN           NaN        0        0        0    4.640625   \n",
       "7            NaN           NaN        0        0        0    0.459961   \n",
       "9            NaN           NaN        0        0        0    2.970703   \n",
       "12           NaN           NaN        0        0        0    1.969727   \n",
       "14           NaN           NaN        0        0        0    0.700195   \n",
       "\n",
       "    sell_price_rel_diff  sell_price_cumrel  sell_price_roll_sd7  demand_total  \\\n",
       "3                   0.0           0.231201                  0.0             1   \n",
       "7                   0.0           0.037079                  0.0             7   \n",
       "9                   0.0           0.000000                  0.0             2   \n",
       "12                  0.0           0.000000                  0.0             1   \n",
       "14                  0.0           0.019226                  0.0            11   \n",
       "\n",
       "    lag_t28  rolling_mean_t7  rolling_mean_t15  rolling_mean_t30  \\\n",
       "3       NaN              NaN               NaN               NaN   \n",
       "7       NaN              NaN               NaN               NaN   \n",
       "9       NaN              NaN               NaN               NaN   \n",
       "12      NaN              NaN               NaN               NaN   \n",
       "14      NaN              NaN               NaN               NaN   \n",
       "\n",
       "    rolling_mean_t50  rolling_mean_t70  rolling_mean_t90  rolling_mean_t120  \\\n",
       "3                NaN               NaN               NaN                NaN   \n",
       "7                NaN               NaN               NaN                NaN   \n",
       "9                NaN               NaN               NaN                NaN   \n",
       "12               NaN               NaN               NaN                NaN   \n",
       "14               NaN               NaN               NaN                NaN   \n",
       "\n",
       "    rolling_mean_t150  rolling_mean_t180  rolling_std_t7  rolling_std_t30  \\\n",
       "3                 NaN                NaN             NaN              NaN   \n",
       "7                 NaN                NaN             NaN              NaN   \n",
       "9                 NaN                NaN             NaN              NaN   \n",
       "12                NaN                NaN             NaN              NaN   \n",
       "14                NaN                NaN             NaN              NaN   \n",
       "\n",
       "    rolling_skew_t30  rolling_kurt_t30  year  quarter  month  week  day  \\\n",
       "3                NaN               NaN  2014        2      4    17   26   \n",
       "7                NaN               NaN  2014        2      4    17   26   \n",
       "9                NaN               NaN  2014        2      4    17   26   \n",
       "12               NaN               NaN  2014        2      4    17   26   \n",
       "14               NaN               NaN  2014        2      4    17   26   \n",
       "\n",
       "    dayofweek  is_year_end  is_year_start  is_quarter_end  is_quarter_start  \\\n",
       "3           5            0              0               0                 0   \n",
       "7           5            0              0               0                 0   \n",
       "9           5            0              0               0                 0   \n",
       "12          5            0              0               0                 0   \n",
       "14          5            0              0               0                 0   \n",
       "\n",
       "    is_month_end  is_month_start  is_weekend  \n",
       "3              0               0           1  \n",
       "7              0               0           1  \n",
       "9              0               0           1  \n",
       "12             0               0           1  \n",
       "14             0               0           1  "
      ]
     },
     "execution_count": 18,
     "metadata": {
      "tags": []
     },
     "output_type": "execute_result"
    }
   ],
   "source": [
    "data.head()"
   ]
  },
  {
   "cell_type": "code",
   "execution_count": 0,
   "metadata": {
    "colab": {},
    "colab_type": "code",
    "id": "WQmKB0biKIIS"
   },
   "outputs": [],
   "source": [
    "features = [\"item_id\",\"dept_id\",\n",
    "    \"cat_id\",\"store_id\",\"state_id\",\n",
    "    \"event_name_1\",\"event_type_1\",\"snap_CA\",\n",
    "    \"snap_TX\",\"snap_WI\",\"sell_price\", \"sell_price_rel_diff\", \"sell_price_cumrel\", \"sell_price_roll_sd7\",\n",
    "    # demand features.\n",
    "     \"lag_t28\", \"rolling_mean_t7\", \"rolling_mean_t15\", \"rolling_mean_t30\", \n",
    "     \"rolling_mean_t50\", \"rolling_mean_t70\", \"rolling_mean_t90\", \n",
    "     \"rolling_mean_t120\", \"rolling_mean_t150\", \"rolling_mean_t180\",\n",
    "     \"rolling_std_t7\", \"rolling_std_t30\",\n",
    "     \"rolling_skew_t30\",\"rolling_kurt_t30\",\n",
    "       'year', 'quarter', 'month', 'week', 'day', 'dayofweek', 'holidays'#, 'is_year_end',\n",
    "     #  'is_year_start', 'is_quarter_end', 'is_quarter_start', 'is_month_end',\n",
    "     #  'is_month_start', 'is_weekend'\n",
    "       ]"
   ]
  },
  {
   "cell_type": "code",
   "execution_count": 0,
   "metadata": {
    "colab": {},
    "colab_type": "code",
    "id": "k1YRhkBcksfb"
   },
   "outputs": [],
   "source": [
    "from pandas.tseries.holiday import USFederalHolidayCalendar as calendar\n",
    "cal = calendar()\n",
    "holidays = cal.holidays(start=data['date'].iloc[0], end=data['date'].iloc[-1])\n",
    "data['Holiday'] = data['date'].isin(holidays)\n",
    "data['holiday2'] = data['date'].dt.weekday >=5\n",
    "data['holidays'] = data['Holiday'] + data['holiday2']\n",
    "data['holidays'] = data['holidays'].replace({True: 1, False: 0})\n",
    "data = data.drop(['Holiday', 'holiday2'], axis=1)"
   ]
  },
  {
   "cell_type": "code",
   "execution_count": 0,
   "metadata": {
    "colab": {},
    "colab_type": "code",
    "id": "oAsVce0DFerG"
   },
   "outputs": [],
   "source": [
    "data_hobby = data[data['id'].str.contains(\"HOBBIES\")]\n",
    "data_house = data[data['id'].str.contains(\"HOUSE\")]\n",
    "data_foods = data[data['id'].str.contains(\"FOODS\")]"
   ]
  },
  {
   "cell_type": "code",
   "execution_count": 22,
   "metadata": {
    "colab": {
     "base_uri": "https://localhost:8080/",
     "height": 284
    },
    "colab_type": "code",
    "executionInfo": {
     "elapsed": 930425,
     "status": "ok",
     "timestamp": 1586078353253,
     "user": {
      "displayName": "kouhei yoshizumi",
      "photoUrl": "",
      "userId": "08893900752209747449"
     },
     "user_tz": -540
    },
    "id": "XCY9YdQ-7EU7",
    "outputId": "cbe96bb3-325e-4c33-f9b7-b8129cffcb9a"
   },
   "outputs": [
    {
     "name": "stdout",
     "output_type": "stream",
     "text": [
      "Training until validation scores don't improve for 50 rounds.\n",
      "[30]\ttraining's rmse: 1.74969\tvalid_1's rmse: 1.70229\n",
      "[60]\ttraining's rmse: 1.70835\tvalid_1's rmse: 1.66492\n",
      "[90]\ttraining's rmse: 1.69748\tvalid_1's rmse: 1.66097\n",
      "[120]\ttraining's rmse: 1.6881\tvalid_1's rmse: 1.65958\n",
      "[150]\ttraining's rmse: 1.67999\tvalid_1's rmse: 1.65886\n",
      "[180]\ttraining's rmse: 1.67197\tvalid_1's rmse: 1.65793\n",
      "[210]\ttraining's rmse: 1.66265\tvalid_1's rmse: 1.65788\n",
      "[240]\ttraining's rmse: 1.65501\tvalid_1's rmse: 1.65701\n",
      "[270]\ttraining's rmse: 1.64651\tvalid_1's rmse: 1.65727\n",
      "[300]\ttraining's rmse: 1.63989\tvalid_1's rmse: 1.65673\n",
      "[330]\ttraining's rmse: 1.63341\tvalid_1's rmse: 1.65714\n",
      "Early stopping, best iteration is:\n",
      "[290]\ttraining's rmse: 1.64246\tvalid_1's rmse: 1.65657\n",
      "Our val rmse score is 1.656565355722221\n"
     ]
    }
   ],
   "source": [
    "test_hobby, importance_hobby = run_lgb(data_hobby)"
   ]
  },
  {
   "cell_type": "code",
   "execution_count": 23,
   "metadata": {
    "colab": {
     "base_uri": "https://localhost:8080/",
     "height": 657
    },
    "colab_type": "code",
    "executionInfo": {
     "elapsed": 1567589,
     "status": "ok",
     "timestamp": 1586078990915,
     "user": {
      "displayName": "kouhei yoshizumi",
      "photoUrl": "",
      "userId": "08893900752209747449"
     },
     "user_tz": -540
    },
    "id": "_hyPFuDbFR_v",
    "outputId": "db38773c-6f76-4fde-8dcb-9e24c089c80a"
   },
   "outputs": [
    {
     "name": "stdout",
     "output_type": "stream",
     "text": [
      "Training until validation scores don't improve for 50 rounds.\n",
      "[30]\ttraining's rmse: 1.564\tvalid_1's rmse: 1.54768\n",
      "[60]\ttraining's rmse: 1.47977\tvalid_1's rmse: 1.47768\n",
      "[90]\ttraining's rmse: 1.45887\tvalid_1's rmse: 1.47011\n",
      "[120]\ttraining's rmse: 1.44718\tvalid_1's rmse: 1.46721\n",
      "[150]\ttraining's rmse: 1.4395\tvalid_1's rmse: 1.46581\n",
      "[180]\ttraining's rmse: 1.43235\tvalid_1's rmse: 1.4644\n",
      "[210]\ttraining's rmse: 1.42598\tvalid_1's rmse: 1.46377\n",
      "[240]\ttraining's rmse: 1.41985\tvalid_1's rmse: 1.46343\n",
      "[270]\ttraining's rmse: 1.41308\tvalid_1's rmse: 1.46228\n",
      "[300]\ttraining's rmse: 1.40611\tvalid_1's rmse: 1.46208\n",
      "[330]\ttraining's rmse: 1.40151\tvalid_1's rmse: 1.46118\n",
      "[360]\ttraining's rmse: 1.39658\tvalid_1's rmse: 1.46064\n",
      "[390]\ttraining's rmse: 1.39165\tvalid_1's rmse: 1.45995\n",
      "[420]\ttraining's rmse: 1.38768\tvalid_1's rmse: 1.45938\n",
      "[450]\ttraining's rmse: 1.38393\tvalid_1's rmse: 1.4592\n",
      "[480]\ttraining's rmse: 1.37958\tvalid_1's rmse: 1.45859\n",
      "[510]\ttraining's rmse: 1.37724\tvalid_1's rmse: 1.45817\n",
      "[540]\ttraining's rmse: 1.37446\tvalid_1's rmse: 1.45837\n",
      "[570]\ttraining's rmse: 1.37095\tvalid_1's rmse: 1.45798\n",
      "[600]\ttraining's rmse: 1.3673\tvalid_1's rmse: 1.45764\n",
      "[630]\ttraining's rmse: 1.36468\tvalid_1's rmse: 1.45733\n",
      "[660]\ttraining's rmse: 1.36118\tvalid_1's rmse: 1.45733\n",
      "[690]\ttraining's rmse: 1.3582\tvalid_1's rmse: 1.45704\n",
      "[720]\ttraining's rmse: 1.35553\tvalid_1's rmse: 1.45672\n",
      "[750]\ttraining's rmse: 1.35234\tvalid_1's rmse: 1.45667\n",
      "[780]\ttraining's rmse: 1.35026\tvalid_1's rmse: 1.45649\n",
      "[810]\ttraining's rmse: 1.34691\tvalid_1's rmse: 1.45658\n",
      "[840]\ttraining's rmse: 1.34451\tvalid_1's rmse: 1.45648\n",
      "[870]\ttraining's rmse: 1.3425\tvalid_1's rmse: 1.45593\n",
      "[900]\ttraining's rmse: 1.34041\tvalid_1's rmse: 1.45594\n",
      "[930]\ttraining's rmse: 1.338\tvalid_1's rmse: 1.45595\n",
      "[960]\ttraining's rmse: 1.3355\tvalid_1's rmse: 1.45596\n",
      "Early stopping, best iteration is:\n",
      "[915]\ttraining's rmse: 1.33904\tvalid_1's rmse: 1.45582\n",
      "Our val rmse score is 1.4558216639604742\n"
     ]
    }
   ],
   "source": [
    "test_house, importance_house = run_lgb(data_house)"
   ]
  },
  {
   "cell_type": "code",
   "execution_count": 24,
   "metadata": {
    "colab": {
     "base_uri": "https://localhost:8080/",
     "height": 355
    },
    "colab_type": "code",
    "executionInfo": {
     "elapsed": 2039594,
     "status": "ok",
     "timestamp": 1586079463468,
     "user": {
      "displayName": "kouhei yoshizumi",
      "photoUrl": "",
      "userId": "08893900752209747449"
     },
     "user_tz": -540
    },
    "id": "pzu8Z2WCFSIE",
    "outputId": "83bdcc0a-8bab-4d86-fc1b-53cf0262efc9"
   },
   "outputs": [
    {
     "name": "stdout",
     "output_type": "stream",
     "text": [
      "Training until validation scores don't improve for 50 rounds.\n",
      "[30]\ttraining's rmse: 3.32398\tvalid_1's rmse: 2.97718\n",
      "[60]\ttraining's rmse: 3.10912\tvalid_1's rmse: 2.73235\n",
      "[90]\ttraining's rmse: 3.05827\tvalid_1's rmse: 2.69065\n",
      "[120]\ttraining's rmse: 3.02139\tvalid_1's rmse: 2.68017\n",
      "[150]\ttraining's rmse: 2.99519\tvalid_1's rmse: 2.66993\n",
      "[180]\ttraining's rmse: 2.97071\tvalid_1's rmse: 2.66482\n",
      "[210]\ttraining's rmse: 2.94777\tvalid_1's rmse: 2.65838\n",
      "[240]\ttraining's rmse: 2.927\tvalid_1's rmse: 2.65881\n",
      "[270]\ttraining's rmse: 2.90994\tvalid_1's rmse: 2.65553\n",
      "[300]\ttraining's rmse: 2.88845\tvalid_1's rmse: 2.6504\n",
      "[330]\ttraining's rmse: 2.8756\tvalid_1's rmse: 2.6515\n",
      "[360]\ttraining's rmse: 2.85842\tvalid_1's rmse: 2.64967\n",
      "[390]\ttraining's rmse: 2.84598\tvalid_1's rmse: 2.64644\n",
      "[420]\ttraining's rmse: 2.83233\tvalid_1's rmse: 2.64561\n",
      "[450]\ttraining's rmse: 2.82085\tvalid_1's rmse: 2.64552\n",
      "Early stopping, best iteration is:\n",
      "[404]\ttraining's rmse: 2.83977\tvalid_1's rmse: 2.64479\n",
      "Our val rmse score is 2.6447854984885986\n"
     ]
    }
   ],
   "source": [
    "test_foods, importance_foods = run_lgb(data_foods)"
   ]
  },
  {
   "cell_type": "code",
   "execution_count": 0,
   "metadata": {
    "colab": {},
    "colab_type": "code",
    "id": "5OlDbkaoFSNN"
   },
   "outputs": [],
   "source": [
    "test = pd.concat([test_hobby[test_hobby['id'].str.contains(\"HOBBIES\")], test_house[test_house['id'].str.contains(\"HOUSE\")], test_foods[test_foods['id'].str.contains(\"FOODS\")]])"
   ]
  },
  {
   "cell_type": "code",
   "execution_count": 0,
   "metadata": {
    "colab": {},
    "colab_type": "code",
    "id": "QonzBCh-FR76"
   },
   "outputs": [],
   "source": [
    "predict(test, submission)"
   ]
  },
  {
   "cell_type": "code",
   "execution_count": 79,
   "metadata": {
    "colab": {
     "base_uri": "https://localhost:8080/",
     "height": 35
    },
    "colab_type": "code",
    "executionInfo": {
     "elapsed": 935297,
     "status": "ok",
     "timestamp": 1586064320145,
     "user": {
      "displayName": "kouhei yoshizumi",
      "photoUrl": "",
      "userId": "08893900752209747449"
     },
     "user_tz": -540
    },
    "id": "TIBpquEq9tpj",
    "outputId": "61aacff0-7a10-44b5-adea-7283a0826bfe"
   },
   "outputs": [
    {
     "data": {
      "text/plain": [
       "(853720, 49)"
      ]
     },
     "execution_count": 79,
     "metadata": {
      "tags": []
     },
     "output_type": "execute_result"
    }
   ],
   "source": [
    "test.shape"
   ]
  },
  {
   "cell_type": "code",
   "execution_count": 80,
   "metadata": {
    "colab": {
     "base_uri": "https://localhost:8080/",
     "height": 35
    },
    "colab_type": "code",
    "executionInfo": {
     "elapsed": 935791,
     "status": "ok",
     "timestamp": 1586064321072,
     "user": {
      "displayName": "kouhei yoshizumi",
      "photoUrl": "",
      "userId": "08893900752209747449"
     },
     "user_tz": -540
    },
    "id": "e5bhkvwJZK78",
    "outputId": "724e4591-f17a-4592-8805-6a78c00c3783"
   },
   "outputs": [
    {
     "name": "stdout",
     "output_type": "stream",
     "text": [
      "Download 100%.\n"
     ]
    }
   ],
   "source": [
    "from googleapiclient.discovery import build\n",
    "import io, os\n",
    "from googleapiclient.http import MediaIoBaseDownload\n",
    "from google.colab import auth\n",
    "\n",
    "auth.authenticate_user()\n",
    "\n",
    "drive_service = build('drive', 'v3')\n",
    "results = drive_service.files().list(\n",
    "        q=\"name = 'kaggle.json'\", fields=\"files(id)\").execute()\n",
    "kaggle_api_key = results.get('files', [])\n",
    "\n",
    "filename = \"/root/.kaggle/kaggle.json\"\n",
    "os.makedirs(os.path.dirname(filename), exist_ok=True)\n",
    "\n",
    "request = drive_service.files().get_media(fileId=kaggle_api_key[0]['id'])\n",
    "fh = io.FileIO(filename, 'wb')\n",
    "downloader = MediaIoBaseDownload(fh, request)\n",
    "done = False\n",
    "while done is False:\n",
    "    status, done = downloader.next_chunk()\n",
    "    print(\"Download %d%%.\" % int(status.progress() * 100))\n",
    "os.chmod(filename, 600)"
   ]
  },
  {
   "cell_type": "code",
   "execution_count": 81,
   "metadata": {
    "colab": {
     "base_uri": "https://localhost:8080/",
     "height": 70
    },
    "colab_type": "code",
    "executionInfo": {
     "elapsed": 939095,
     "status": "ok",
     "timestamp": 1586064325265,
     "user": {
      "displayName": "kouhei yoshizumi",
      "photoUrl": "",
      "userId": "08893900752209747449"
     },
     "user_tz": -540
    },
    "id": "-0SwVob1NdjB",
    "outputId": "771634c6-e7c5-49ee-f97a-05fb59e64ad5"
   },
   "outputs": [
    {
     "name": "stdout",
     "output_type": "stream",
     "text": [
      "Warning: Looks like you're using an outdated API Version, please consider updating (server 1.5.6 / client 1.5.4)\n",
      "100% 20.5M/20.5M [00:00<00:00, 41.8MB/s]\n",
      "Successfully submitted to M5 Forecasting - Accuracy"
     ]
    }
   ],
   "source": [
    "!chmod 600 /root/.kaggle/kaggle.json\n",
    "!kaggle competitions submit -c m5-forecasting-accuracy -f submission53.csv -m \"ver7\""
   ]
  },
  {
   "cell_type": "code",
   "execution_count": 0,
   "metadata": {
    "colab": {},
    "colab_type": "code",
    "id": "7hFCtwY0N6xX"
   },
   "outputs": [],
   "source": []
  }
 ],
 "metadata": {
  "colab": {
   "authorship_tag": "ABX9TyO6z4ULFmbeLyBLBteU1+fA",
   "collapsed_sections": [],
   "machine_shape": "hm",
   "name": "submission5_ver1.ipynb",
   "provenance": []
  },
  "kernelspec": {
   "display_name": "Python 3",
   "language": "python",
   "name": "python3"
  },
  "language_info": {
   "codemirror_mode": {
    "name": "ipython",
    "version": 3
   },
   "file_extension": ".py",
   "mimetype": "text/x-python",
   "name": "python",
   "nbconvert_exporter": "python",
   "pygments_lexer": "ipython3",
   "version": "3.7.4"
  }
 },
 "nbformat": 4,
 "nbformat_minor": 1
}
